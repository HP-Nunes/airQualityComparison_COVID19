{
 "cells": [
  {
   "cell_type": "code",
   "execution_count": 1,
   "metadata": {},
   "outputs": [],
   "source": [
    "import pandas as pd"
   ]
  },
  {
   "cell_type": "code",
   "execution_count": 25,
   "metadata": {},
   "outputs": [],
   "source": [
    "df = pd.read_csv('report_data/hep.csv', error_bad_lines=False) # Caution: 'Offending lines' will be skipped and not imported"
   ]
  },
  {
   "cell_type": "code",
   "execution_count": 26,
   "metadata": {},
   "outputs": [],
   "source": [
    "df[['CI_Lower_Boundary','CI_Upper_Boundary']] = df['ChangeMortRate_1980_2014'].str.split(\",\",expand=True,) \n",
    "    # This splits the values in seperate fields by the comma.\n",
    "    \n",
    "df['CI_Upper_Boundary'] = df['CI_Upper_Boundary'].str.strip(')')\n",
    "    # Removing the parenthesis.\n",
    "    \n",
    "df['CI_Lower_Boundary'] = df['CI_Lower_Boundary'].str.split('(').str[1]\n",
    "    # Removing the parenthesis and everything left of it (indicated by the index of [1])\n",
    "    \n",
    "df['ChangeMortality_Rate'] = df['ChangeMortRate_1980_2014'].str.split('(').str[0]\n",
    "    # Removing the parenthesis and everything right of it (indicated by the index of [0])\n",
    "\n",
    "df = df.drop(['MortRate_2014','ChangeMortRate_1980_2014'],axis=1) "
   ]
  },
  {
   "cell_type": "code",
   "execution_count": 27,
   "metadata": {},
   "outputs": [
    {
     "data": {
      "text/html": [
       "<div>\n",
       "<style scoped>\n",
       "    .dataframe tbody tr th:only-of-type {\n",
       "        vertical-align: middle;\n",
       "    }\n",
       "\n",
       "    .dataframe tbody tr th {\n",
       "        vertical-align: top;\n",
       "    }\n",
       "\n",
       "    .dataframe thead th {\n",
       "        text-align: right;\n",
       "    }\n",
       "</style>\n",
       "<table border=\"1\" class=\"dataframe\">\n",
       "  <thead>\n",
       "    <tr style=\"text-align: right;\">\n",
       "      <th></th>\n",
       "      <th>Location</th>\n",
       "      <th>FIPS</th>\n",
       "      <th>CI_Lower_Boundary</th>\n",
       "      <th>CI_Upper_Boundary</th>\n",
       "      <th>ChangeMortality_Rate</th>\n",
       "    </tr>\n",
       "  </thead>\n",
       "  <tbody>\n",
       "    <tr>\n",
       "      <th>0</th>\n",
       "      <td>Autauga County, Alabama</td>\n",
       "      <td>1001</td>\n",
       "      <td>-63.99</td>\n",
       "      <td>-24.18</td>\n",
       "      <td>-46.72</td>\n",
       "    </tr>\n",
       "    <tr>\n",
       "      <th>1</th>\n",
       "      <td>Baldwin County, Alabama</td>\n",
       "      <td>1003</td>\n",
       "      <td>-64.03</td>\n",
       "      <td>-34.52</td>\n",
       "      <td>-51.28</td>\n",
       "    </tr>\n",
       "    <tr>\n",
       "      <th>2</th>\n",
       "      <td>Barbour County, Alabama</td>\n",
       "      <td>1005</td>\n",
       "      <td>-66.28</td>\n",
       "      <td>-34.42</td>\n",
       "      <td>-52.71</td>\n",
       "    </tr>\n",
       "    <tr>\n",
       "      <th>3</th>\n",
       "      <td>Bibb County, Alabama</td>\n",
       "      <td>1007</td>\n",
       "      <td>-63.30</td>\n",
       "      <td>-26.26</td>\n",
       "      <td>-47.40</td>\n",
       "    </tr>\n",
       "    <tr>\n",
       "      <th>4</th>\n",
       "      <td>Blount County, Alabama</td>\n",
       "      <td>1009</td>\n",
       "      <td>-64.28</td>\n",
       "      <td>-28.54</td>\n",
       "      <td>-48.33</td>\n",
       "    </tr>\n",
       "  </tbody>\n",
       "</table>\n",
       "</div>"
      ],
      "text/plain": [
       "                  Location  FIPS CI_Lower_Boundary CI_Upper_Boundary  \\\n",
       "0  Autauga County, Alabama  1001            -63.99            -24.18   \n",
       "1  Baldwin County, Alabama  1003            -64.03            -34.52   \n",
       "2  Barbour County, Alabama  1005            -66.28            -34.42   \n",
       "3     Bibb County, Alabama  1007            -63.30            -26.26   \n",
       "4   Blount County, Alabama  1009            -64.28            -28.54   \n",
       "\n",
       "  ChangeMortality_Rate  \n",
       "0              -46.72   \n",
       "1              -51.28   \n",
       "2              -52.71   \n",
       "3              -47.40   \n",
       "4              -48.33   "
      ]
     },
     "execution_count": 27,
     "metadata": {},
     "output_type": "execute_result"
    }
   ],
   "source": [
    "df.head()"
   ]
  },
  {
   "cell_type": "code",
   "execution_count": 28,
   "metadata": {},
   "outputs": [],
   "source": [
    "df.to_csv('report_data/hep_clean.csv')"
   ]
  }
 ],
 "metadata": {
  "kernelspec": {
   "display_name": "Python 3",
   "language": "python",
   "name": "python3"
  },
  "language_info": {
   "codemirror_mode": {
    "name": "ipython",
    "version": 3
   },
   "file_extension": ".py",
   "mimetype": "text/x-python",
   "name": "python",
   "nbconvert_exporter": "python",
   "pygments_lexer": "ipython3",
   "version": "3.6.9"
  },
  "toc": {
   "base_numbering": 1,
   "nav_menu": {},
   "number_sections": true,
   "sideBar": true,
   "skip_h1_title": false,
   "title_cell": "Table of Contents",
   "title_sidebar": "Contents",
   "toc_cell": false,
   "toc_position": {},
   "toc_section_display": true,
   "toc_window_display": false
  }
 },
 "nbformat": 4,
 "nbformat_minor": 2
}
